{
 "cells": [
  {
   "cell_type": "code",
   "execution_count": 1,
   "id": "8a09be61-f78b-4d82-b2eb-519fa76f48b5",
   "metadata": {},
   "outputs": [],
   "source": [
    "import xarray as xr"
   ]
  },
  {
   "cell_type": "code",
   "execution_count": 3,
   "id": "6b6297a0-6348-4db3-8c3b-82e745f44740",
   "metadata": {},
   "outputs": [],
   "source": [
    "from utils import *"
   ]
  },
  {
   "cell_type": "code",
   "execution_count": 7,
   "id": "64780f79-fa4a-475f-9a3a-676b1cd818f6",
   "metadata": {},
   "outputs": [],
   "source": [
    "def dashboard_wrangling(param, var):\n",
    "        #~~~~~~~~~~~~~~~~~~~~~~~~~~~~~~~~~~~~~~~~~~~~~\n",
    "    #----            Parameter Data.          ----\n",
    "    #~~~~~~~~~~~~~~~~~~~~~~~~~~~~~~~~~~~~~~~~~~~~~\n",
    "    # NEED TO ADD NAME ATTRIBUTE IN WRANGLING PORTION\n",
    "    param = param_wrangling()\n",
    "    \n",
    "    #~~~~~~~~~~~~~~~~~~~~~~~~~~~~~~~~~~~~~~~\n",
    "    #----        Ifelse Load Data       ----\n",
    "    #~~~~~~~~~~~~~~~~~~~~~~~~~~~~~~~~~~~~~~~\n",
    "    # THIS FUNCTION IS TO BE ADDED SUNDAY 4/1/24\n",
    "    # Heather's ifelse statement for reading & wrangling\n",
    "    # if 'var.nc' is in /saves\n",
    "    #then\n",
    "    #read in the file as a dataset\n",
    "    ds=xr.open_dataset('saves/'+var+'.nc')\n",
    "\n",
    "    #then convert back to data array\n",
    "    var = ds[var]\n",
    "    #else \n",
    "    \n",
    "    #~~~~~~~~~~~~~~~~~~~~~~~~~~~~~~~~~~~~~~~~~~~~~\n",
    "    # ----    Subset User Selection Funct     ----\n",
    "    #~~~~~~~~~~~~~~~~~~~~~~~~~~~~~~~~~~~~~~~~~~~~~\n",
    "    var = subset_var_cluster(var)\n",
    "\n",
    "    #~~~~~~~~~~~~~~~~~~~~~~~~~~~~~~~~~~~~~~~~~~~~~\n",
    "    # ----      Subset Var Wrangle Funct      ----\n",
    "    #~~~~~~~~~~~~~~~~~~~~~~~~~~~~~~~~~~~~~~~~~~~~~\n",
    "    # NEED TO ADD NAME ATTRIBUTE IN WRANGLING PORTION\n",
    "    var = wrangle_var_cluster(var)\n",
    "\n",
    "    #you ought to convert the data array to dataset before writing to file\n",
    "    ds=xr.Dataset({var:var})\n",
    "    ds.to_netcdf('saves/'+var+'.nc') # note that this will throw error if you try to overwrite existing files\n",
    "\n",
    "        \n",
    "    return param, var"
   ]
  },
  {
   "cell_type": "code",
   "execution_count": 10,
   "id": "58719470-b217-42d1-893a-54033db9deba",
   "metadata": {},
   "outputs": [],
   "source": [
    "param, var  = dashboard_wrangling('leafcn', 'LNC')"
   ]
  },
  {
   "cell_type": "code",
   "execution_count": 11,
   "id": "0ced825c-f639-4b6f-9e69-d782e32bfc5f",
   "metadata": {},
   "outputs": [
    {
     "data": {
      "text/plain": [
       "array([[0.77831114, 0.35802577, 0.25502127, ..., 0.39361723, 0.07896155,\n",
       "        0.68458797],\n",
       "       [0.31932864, 0.54880317, 0.63019079, ..., 0.04108439, 0.27561916,\n",
       "        0.87845469],\n",
       "       [0.87677181, 0.21079367, 0.6621252 , ..., 0.81974643, 0.84014328,\n",
       "        0.95191497],\n",
       "       ...,\n",
       "       [0.18596905, 0.996422  , 0.42220946, ..., 0.24264258, 0.84227481,\n",
       "        0.7311443 ],\n",
       "       [0.26212961, 0.9122803 , 0.5339336 , ..., 0.71595008, 0.35301486,\n",
       "        0.3580522 ],\n",
       "       [0.42211367, 0.83921159, 0.14434242, ..., 0.21237027, 0.36344002,\n",
       "        0.1567103 ]])"
      ]
     },
     "execution_count": 11,
     "metadata": {},
     "output_type": "execute_result"
    }
   ],
   "source": [
    "param"
   ]
  },
  {
   "cell_type": "code",
   "execution_count": 12,
   "id": "bf5a4ccc-e5df-4e19-911b-09751e22b7b5",
   "metadata": {},
   "outputs": [
    {
     "ename": "NameError",
     "evalue": "name 'mean_absolute_error' is not defined",
     "output_type": "error",
     "traceback": [
      "\u001b[0;31m---------------------------------------------------------------------------\u001b[0m",
      "\u001b[0;31mNameError\u001b[0m                                 Traceback (most recent call last)",
      "Cell \u001b[0;32mIn[12], line 1\u001b[0m\n\u001b[0;32m----> 1\u001b[0m \u001b[43mtrain_emulator\u001b[49m\u001b[43m(\u001b[49m\u001b[43mparam\u001b[49m\u001b[43m,\u001b[49m\u001b[43m \u001b[49m\u001b[43mvar\u001b[49m\u001b[43m)\u001b[49m\n",
      "File \u001b[0;32m~/Prototype/utils.py:231\u001b[0m, in \u001b[0;36mtrain_emulator\u001b[0;34m(param, var)\u001b[0m\n\u001b[1;32m    225\u001b[0m y_pred, y_std \u001b[38;5;241m=\u001b[39m gpr_model\u001b[38;5;241m.\u001b[39mpredict(X_test, return_std\u001b[38;5;241m=\u001b[39m\u001b[38;5;28;01mTrue\u001b[39;00m)\n\u001b[1;32m    227\u001b[0m \u001b[38;5;66;03m#~~~~~~~~~~~~~~~~~~~~~~~~~~~~~~~~~~~~~~~\u001b[39;00m\n\u001b[1;32m    228\u001b[0m \u001b[38;5;66;03m# ----         Collect Metrics      ----\u001b[39;00m\n\u001b[1;32m    229\u001b[0m \u001b[38;5;66;03m#~~~~~~~~~~~~~~~~~~~~~~~~~~~~~~~~~~~~~~~\u001b[39;00m\n\u001b[1;32m    230\u001b[0m \u001b[38;5;66;03m# Calculate Mean Absolute Error\u001b[39;00m\n\u001b[0;32m--> 231\u001b[0m mae \u001b[38;5;241m=\u001b[39m \u001b[43mmean_absolute_error\u001b[49m(y_test, y_pred)\n\u001b[1;32m    233\u001b[0m \u001b[38;5;66;03m# Calculate R^2\u001b[39;00m\n\u001b[1;32m    234\u001b[0m r2_train \u001b[38;5;241m=\u001b[39m r2_score(y_test, y_pred)\n",
      "\u001b[0;31mNameError\u001b[0m: name 'mean_absolute_error' is not defined"
     ]
    }
   ],
   "source": [
    "train_emulator(param, var)"
   ]
  }
 ],
 "metadata": {
  "kernelspec": {
   "display_name": "Python [conda env:.conda-meds-py]",
   "language": "python",
   "name": "conda-env-.conda-meds-py-py"
  },
  "language_info": {
   "codemirror_mode": {
    "name": "ipython",
    "version": 3
   },
   "file_extension": ".py",
   "mimetype": "text/x-python",
   "name": "python",
   "nbconvert_exporter": "python",
   "pygments_lexer": "ipython3",
   "version": "3.11.7"
  }
 },
 "nbformat": 4,
 "nbformat_minor": 5
}
