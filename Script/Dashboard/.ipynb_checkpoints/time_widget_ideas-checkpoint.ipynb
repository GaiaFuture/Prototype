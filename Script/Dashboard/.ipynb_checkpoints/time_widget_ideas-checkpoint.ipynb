{
 "cells": [
  {
   "cell_type": "markdown",
   "id": "e46e8e1c-e933-4cd7-9a0f-c203629452f7",
   "metadata": {},
   "source": [
    "# Ideas for Timeline Drop Down Widget\n",
    "Author: Sofia Ingersoll\n",
    "\n",
    "Date: 2024 May 19"
   ]
  },
  {
   "cell_type": "code",
   "execution_count": null,
   "id": "7d0dbedc-6236-4939-9747-638d8c56123d",
   "metadata": {},
   "outputs": [],
   "source": [
    "#~~~~~~~~~~~~~~~~~~~~~~~~~~~~~~~~~~~~~~~\n",
    "#----  Select Time Drop Down Widget ----\n",
    "#~~~~~~~~~~~~~~~~~~~~~~~~~~~~~~~~~~~~~~~\n",
    "# Create the dropdown widget\n",
    "time_selection_widget = pn.widgets.Select(name='Time Selection', \n",
    "                                          options=['1995-2000', '1995-2005', '1995-2010', '1995-2015'])\n",
    "\n",
    "# Function to update dataset based on dropdown selection\n",
    "@pn.depends(time_selection_widget.param.value)\n",
    "def update_dataset(time_selection):\n",
    "     # Replace with the actual variable you want to use\n",
    "    var = 'your_variable_here' \n",
    "    ds = read_all_simulations(var, time_selection)\n",
    "    return ds\n",
    "\n",
    "# Layout\n",
    "dashboard = pn.Column(time_selection_widget, update_dataset)\n",
    "\n",
    "# Display the dashboard\n",
    "dashboard.servable()"
   ]
  }
 ],
 "metadata": {
  "kernelspec": {
   "display_name": "Python [conda env:.conda-meds-py]",
   "language": "python",
   "name": "conda-env-.conda-meds-py-py"
  },
  "language_info": {
   "codemirror_mode": {
    "name": "ipython",
    "version": 3
   },
   "file_extension": ".py",
   "mimetype": "text/x-python",
   "name": "python",
   "nbconvert_exporter": "python",
   "pygments_lexer": "ipython3",
   "version": "3.11.9"
  }
 },
 "nbformat": 4,
 "nbformat_minor": 5
}
