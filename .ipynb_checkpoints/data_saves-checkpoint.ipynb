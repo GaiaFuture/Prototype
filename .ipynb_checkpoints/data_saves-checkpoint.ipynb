{
 "cells": [
  {
   "cell_type": "code",
   "execution_count": 2,
   "id": "6defb517-cda1-432e-89a9-490675ba9a01",
   "metadata": {},
   "outputs": [],
   "source": [
    "import xarray as xr\n",
    "import numpy as np"
   ]
  },
  {
   "cell_type": "code",
   "execution_count": 3,
   "id": "3fb37998-eb7f-438d-8cc4-f59410b7661c",
   "metadata": {},
   "outputs": [],
   "source": [
    "#creating a dummy data array in lieu of learning your functions...\n",
    "var='GPP'\n",
    "var_avg=xr.DataArray(np.ones(500),dims='ens')"
   ]
  },
  {
   "cell_type": "code",
   "execution_count": 4,
   "id": "e80c70e4-f031-4d07-84af-00652ab6b8c7",
   "metadata": {},
   "outputs": [],
   "source": [
    "#you ought to convert the data array to dataset before writing to file\n",
    "ds=xr.Dataset({var:var_avg})\n",
    "ds.to_netcdf('saves/'+var+'.nc') # note that this will throw error if you try to overwrite existing files"
   ]
  },
  {
   "cell_type": "code",
   "execution_count": 27,
   "id": "53c46557-2538-475a-91ea-7e8312e1ee48",
   "metadata": {},
   "outputs": [],
   "source": [
    "#read in the file as a dataset\n",
    "ds=xr.open_dataset('saves/'+var+'.nc')\n",
    "\n",
    "#then convert back to data array\n",
    "var_avg_test=ds[var]"
   ]
  },
  {
   "cell_type": "code",
   "execution_count": 28,
   "id": "fdd8fe54-d648-4dd7-87a1-ae3c57cd70e8",
   "metadata": {},
   "outputs": [
    {
     "data": {
      "text/plain": [
       "True"
      ]
     },
     "execution_count": 28,
     "metadata": {},
     "output_type": "execute_result"
    }
   ],
   "source": [
    "var_avg.equals(var_avg_test)"
   ]
  }
 ],
 "metadata": {
  "kernelspec": {
   "display_name": "Python [conda env:.conda-meds-py]",
   "language": "python",
   "name": "conda-env-.conda-meds-py-py"
  },
  "language_info": {
   "codemirror_mode": {
    "name": "ipython",
    "version": 3
   },
   "file_extension": ".py",
   "mimetype": "text/x-python",
   "name": "python",
   "nbconvert_exporter": "python",
   "pygments_lexer": "ipython3",
   "version": "3.11.7"
  }
 },
 "nbformat": 4,
 "nbformat_minor": 5
}
