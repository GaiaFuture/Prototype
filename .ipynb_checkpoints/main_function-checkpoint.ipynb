{
 "cells": [
  {
   "cell_type": "code",
   "execution_count": 1,
   "id": "8a09be61-f78b-4d82-b2eb-519fa76f48b5",
   "metadata": {},
   "outputs": [],
   "source": [
    "import xarray as xr"
   ]
  },
  {
   "cell_type": "code",
   "execution_count": 2,
   "id": "6b6297a0-6348-4db3-8c3b-82e745f44740",
   "metadata": {},
   "outputs": [],
   "source": [
    "from utils import *"
   ]
  },
  {
   "cell_type": "code",
   "execution_count": 19,
   "id": "64780f79-fa4a-475f-9a3a-676b1cd818f6",
   "metadata": {},
   "outputs": [],
   "source": [
    "def dashboard_wrangling(param, var):\n",
    "        #~~~~~~~~~~~~~~~~~~~~~~~~~~~~~~~~~~~~~~~~~~~~~\n",
    "    #----            Parameter Data.          ----\n",
    "    #~~~~~~~~~~~~~~~~~~~~~~~~~~~~~~~~~~~~~~~~~~~~~\n",
    "    # NEED TO ADD NAME ATTRIBUTE IN WRANGLING PORTION\n",
    "    param = param_wrangling()\n",
    "    \n",
    "    #~~~~~~~~~~~~~~~~~~~~~~~~~~~~~~~~~~~~~~~\n",
    "    #----        Ifelse Load Data       ----\n",
    "    #~~~~~~~~~~~~~~~~~~~~~~~~~~~~~~~~~~~~~~~\n",
    "    # THIS FUNCTION IS TO BE ADDED SUNDAY 4/1/24\n",
    "    # Heather's ifelse statement for reading & wrangling\n",
    "    filepath = os.path.join(\"saves\", f\"{var}.nc\")\n",
    "    if os.path.exists(filepath):\n",
    "         #read in the file as a dataset\n",
    "        ds=xr.open_dataset('saves/'+var+'.nc')\n",
    "    \n",
    "        #then convert back to data array\n",
    "        var = ds[var]\n",
    "    else:\n",
    "        print(f\"Reading and wrangling your data, this may take a few minutes. This would be a great time to get a cup of coffee!\")\n",
    "        #~~~~~~~~~~~~~~~~~~~~~~~~~~~~~~~~~~~~~~~~~~~~~\n",
    "        # ----    Subset User Selection Funct     ----\n",
    "        #~~~~~~~~~~~~~~~~~~~~~~~~~~~~~~~~~~~~~~~~~~~~~\n",
    "        var = subset_var_cluster(var)\n",
    "\n",
    "        #~~~~~~~~~~~~~~~~~~~~~~~~~~~~~~~~~~~~~~~~~~~~~\n",
    "        # ----      Subset Var Wrangle Funct      ----\n",
    "        #~~~~~~~~~~~~~~~~~~~~~~~~~~~~~~~~~~~~~~~~~~~~~\n",
    "        # NEED TO ADD NAME ATTRIBUTE IN WRANGLING PORTION\n",
    "        var = wrangle_var_cluster(var)\n",
    "\n",
    "        #you ought to convert the data array to dataset before writing to file\n",
    "        ds = xr.Dataset({var.name: var})\n",
    "        ds.to_netcdf('saves/'+var+'.nc') # note that this will throw error if you try to overwrite existing files\n",
    "           \n",
    "    return param, var_avg"
   ]
  },
  {
   "cell_type": "code",
   "execution_count": 20,
   "id": "58719470-b217-42d1-893a-54033db9deba",
   "metadata": {},
   "outputs": [
    {
     "name": "stdout",
     "output_type": "stream",
     "text": [
      "Reading and wrangling your data, this may take a few minutes. This would be a great time to get a cup of coffee!\n"
     ]
    },
    {
     "ename": "UFuncTypeError",
     "evalue": "ufunc 'add' did not contain a loop with signature matching types (dtype('<U6'), dtype('float64')) -> None",
     "output_type": "error",
     "traceback": [
      "\u001b[0;31m---------------------------------------------------------------------------\u001b[0m",
      "\u001b[0;31mUFuncTypeError\u001b[0m                            Traceback (most recent call last)",
      "Cell \u001b[0;32mIn[20], line 1\u001b[0m\n\u001b[0;32m----> 1\u001b[0m param, var  \u001b[38;5;241m=\u001b[39m \u001b[43mdashboard_wrangling\u001b[49m\u001b[43m(\u001b[49m\u001b[38;5;124;43m'\u001b[39;49m\u001b[38;5;124;43mleafcn\u001b[39;49m\u001b[38;5;124;43m'\u001b[39;49m\u001b[43m,\u001b[49m\u001b[43m \u001b[49m\u001b[38;5;124;43m'\u001b[39;49m\u001b[38;5;124;43mLNC\u001b[39;49m\u001b[38;5;124;43m'\u001b[39;49m\u001b[43m)\u001b[49m\n",
      "Cell \u001b[0;32mIn[19], line 35\u001b[0m, in \u001b[0;36mdashboard_wrangling\u001b[0;34m(param, var)\u001b[0m\n\u001b[1;32m     33\u001b[0m     \u001b[38;5;66;03m#you ought to convert the data array to dataset before writing to file\u001b[39;00m\n\u001b[1;32m     34\u001b[0m     ds \u001b[38;5;241m=\u001b[39m xr\u001b[38;5;241m.\u001b[39mDataset({var\u001b[38;5;241m.\u001b[39mname: var})\n\u001b[0;32m---> 35\u001b[0m     ds\u001b[38;5;241m.\u001b[39mto_netcdf(\u001b[38;5;124;43m'\u001b[39;49m\u001b[38;5;124;43msaves/\u001b[39;49m\u001b[38;5;124;43m'\u001b[39;49m\u001b[38;5;241;43m+\u001b[39;49m\u001b[43mvar\u001b[49m\u001b[38;5;241m+\u001b[39m\u001b[38;5;124m'\u001b[39m\u001b[38;5;124m.nc\u001b[39m\u001b[38;5;124m'\u001b[39m) \u001b[38;5;66;03m# note that this will throw error if you try to overwrite existing files\u001b[39;00m\n\u001b[1;32m     37\u001b[0m \u001b[38;5;28;01mreturn\u001b[39;00m param, var_avg\n",
      "File \u001b[0;32m~/.conda/envs/meds-py/lib/python3.11/site-packages/xarray/core/_typed_ops.py:304\u001b[0m, in \u001b[0;36mDataArrayOpsMixin.__radd__\u001b[0;34m(self, other)\u001b[0m\n\u001b[1;32m    303\u001b[0m \u001b[38;5;28;01mdef\u001b[39;00m \u001b[38;5;21m__radd__\u001b[39m(\u001b[38;5;28mself\u001b[39m, other: DaCompatible) \u001b[38;5;241m-\u001b[39m\u001b[38;5;241m>\u001b[39m Self:\n\u001b[0;32m--> 304\u001b[0m     \u001b[38;5;28;01mreturn\u001b[39;00m \u001b[38;5;28;43mself\u001b[39;49m\u001b[38;5;241;43m.\u001b[39;49m\u001b[43m_binary_op\u001b[49m\u001b[43m(\u001b[49m\u001b[43mother\u001b[49m\u001b[43m,\u001b[49m\u001b[43m \u001b[49m\u001b[43moperator\u001b[49m\u001b[38;5;241;43m.\u001b[39;49m\u001b[43madd\u001b[49m\u001b[43m,\u001b[49m\u001b[43m \u001b[49m\u001b[43mreflexive\u001b[49m\u001b[38;5;241;43m=\u001b[39;49m\u001b[38;5;28;43;01mTrue\u001b[39;49;00m\u001b[43m)\u001b[49m\n",
      "File \u001b[0;32m~/.conda/envs/meds-py/lib/python3.11/site-packages/xarray/core/dataarray.py:4682\u001b[0m, in \u001b[0;36mDataArray._binary_op\u001b[0;34m(self, other, f, reflexive)\u001b[0m\n\u001b[1;32m   4676\u001b[0m other_variable_or_arraylike: DaCompatible \u001b[38;5;241m=\u001b[39m \u001b[38;5;28mgetattr\u001b[39m(other, \u001b[38;5;124m\"\u001b[39m\u001b[38;5;124mvariable\u001b[39m\u001b[38;5;124m\"\u001b[39m, other)\n\u001b[1;32m   4677\u001b[0m other_coords \u001b[38;5;241m=\u001b[39m \u001b[38;5;28mgetattr\u001b[39m(other, \u001b[38;5;124m\"\u001b[39m\u001b[38;5;124mcoords\u001b[39m\u001b[38;5;124m\"\u001b[39m, \u001b[38;5;28;01mNone\u001b[39;00m)\n\u001b[1;32m   4679\u001b[0m variable \u001b[38;5;241m=\u001b[39m (\n\u001b[1;32m   4680\u001b[0m     f(\u001b[38;5;28mself\u001b[39m\u001b[38;5;241m.\u001b[39mvariable, other_variable_or_arraylike)\n\u001b[1;32m   4681\u001b[0m     \u001b[38;5;28;01mif\u001b[39;00m \u001b[38;5;129;01mnot\u001b[39;00m reflexive\n\u001b[0;32m-> 4682\u001b[0m     \u001b[38;5;28;01melse\u001b[39;00m f(other_variable_or_arraylike, \u001b[38;5;28mself\u001b[39m\u001b[38;5;241m.\u001b[39mvariable)\n\u001b[1;32m   4683\u001b[0m )\n\u001b[1;32m   4684\u001b[0m coords, indexes \u001b[38;5;241m=\u001b[39m \u001b[38;5;28mself\u001b[39m\u001b[38;5;241m.\u001b[39mcoords\u001b[38;5;241m.\u001b[39m_merge_raw(other_coords, reflexive)\n\u001b[1;32m   4685\u001b[0m name \u001b[38;5;241m=\u001b[39m \u001b[38;5;28mself\u001b[39m\u001b[38;5;241m.\u001b[39m_result_name(other)\n",
      "File \u001b[0;32m~/.conda/envs/meds-py/lib/python3.11/site-packages/xarray/core/_typed_ops.py:624\u001b[0m, in \u001b[0;36mVariableOpsMixin.__radd__\u001b[0;34m(self, other)\u001b[0m\n\u001b[1;32m    623\u001b[0m \u001b[38;5;28;01mdef\u001b[39;00m \u001b[38;5;21m__radd__\u001b[39m(\u001b[38;5;28mself\u001b[39m, other: VarCompatible) \u001b[38;5;241m-\u001b[39m\u001b[38;5;241m>\u001b[39m Self:\n\u001b[0;32m--> 624\u001b[0m     \u001b[38;5;28;01mreturn\u001b[39;00m \u001b[38;5;28;43mself\u001b[39;49m\u001b[38;5;241;43m.\u001b[39;49m\u001b[43m_binary_op\u001b[49m\u001b[43m(\u001b[49m\u001b[43mother\u001b[49m\u001b[43m,\u001b[49m\u001b[43m \u001b[49m\u001b[43moperator\u001b[49m\u001b[38;5;241;43m.\u001b[39;49m\u001b[43madd\u001b[49m\u001b[43m,\u001b[49m\u001b[43m \u001b[49m\u001b[43mreflexive\u001b[49m\u001b[38;5;241;43m=\u001b[39;49m\u001b[38;5;28;43;01mTrue\u001b[39;49;00m\u001b[43m)\u001b[49m\n",
      "File \u001b[0;32m~/.conda/envs/meds-py/lib/python3.11/site-packages/xarray/core/variable.py:2273\u001b[0m, in \u001b[0;36mVariable._binary_op\u001b[0;34m(self, other, f, reflexive)\u001b[0m\n\u001b[1;32m   2270\u001b[0m attrs \u001b[38;5;241m=\u001b[39m \u001b[38;5;28mself\u001b[39m\u001b[38;5;241m.\u001b[39m_attrs \u001b[38;5;28;01mif\u001b[39;00m keep_attrs \u001b[38;5;28;01melse\u001b[39;00m \u001b[38;5;28;01mNone\u001b[39;00m\n\u001b[1;32m   2271\u001b[0m \u001b[38;5;28;01mwith\u001b[39;00m np\u001b[38;5;241m.\u001b[39merrstate(\u001b[38;5;28mall\u001b[39m\u001b[38;5;241m=\u001b[39m\u001b[38;5;124m\"\u001b[39m\u001b[38;5;124mignore\u001b[39m\u001b[38;5;124m\"\u001b[39m):\n\u001b[1;32m   2272\u001b[0m     new_data \u001b[38;5;241m=\u001b[39m (\n\u001b[0;32m-> 2273\u001b[0m         f(self_data, other_data) \u001b[38;5;28;01mif\u001b[39;00m \u001b[38;5;129;01mnot\u001b[39;00m reflexive \u001b[38;5;28;01melse\u001b[39;00m f(other_data, self_data)\n\u001b[1;32m   2274\u001b[0m     )\n\u001b[1;32m   2275\u001b[0m result \u001b[38;5;241m=\u001b[39m Variable(dims, new_data, attrs\u001b[38;5;241m=\u001b[39mattrs)\n\u001b[1;32m   2276\u001b[0m \u001b[38;5;28;01mreturn\u001b[39;00m result\n",
      "\u001b[0;31mUFuncTypeError\u001b[0m: ufunc 'add' did not contain a loop with signature matching types (dtype('<U6'), dtype('float64')) -> None"
     ]
    }
   ],
   "source": [
    "param, var  = dashboard_wrangling('leafcn', 'LNC')"
   ]
  },
  {
   "cell_type": "code",
   "execution_count": 11,
   "id": "0ced825c-f639-4b6f-9e69-d782e32bfc5f",
   "metadata": {},
   "outputs": [
    {
     "data": {
      "text/plain": [
       "array([[0.77831114, 0.35802577, 0.25502127, ..., 0.39361723, 0.07896155,\n",
       "        0.68458797],\n",
       "       [0.31932864, 0.54880317, 0.63019079, ..., 0.04108439, 0.27561916,\n",
       "        0.87845469],\n",
       "       [0.87677181, 0.21079367, 0.6621252 , ..., 0.81974643, 0.84014328,\n",
       "        0.95191497],\n",
       "       ...,\n",
       "       [0.18596905, 0.996422  , 0.42220946, ..., 0.24264258, 0.84227481,\n",
       "        0.7311443 ],\n",
       "       [0.26212961, 0.9122803 , 0.5339336 , ..., 0.71595008, 0.35301486,\n",
       "        0.3580522 ],\n",
       "       [0.42211367, 0.83921159, 0.14434242, ..., 0.21237027, 0.36344002,\n",
       "        0.1567103 ]])"
      ]
     },
     "execution_count": 11,
     "metadata": {},
     "output_type": "execute_result"
    }
   ],
   "source": [
    "param"
   ]
  },
  {
   "cell_type": "code",
   "execution_count": 18,
   "id": "bf5a4ccc-e5df-4e19-911b-09751e22b7b5",
   "metadata": {},
   "outputs": [
    {
     "ename": "NameError",
     "evalue": "name 'mean_absolute_error' is not defined",
     "output_type": "error",
     "traceback": [
      "\u001b[0;31m---------------------------------------------------------------------------\u001b[0m",
      "\u001b[0;31mNameError\u001b[0m                                 Traceback (most recent call last)",
      "Cell \u001b[0;32mIn[18], line 1\u001b[0m\n\u001b[0;32m----> 1\u001b[0m \u001b[43mtrain_emulator\u001b[49m\u001b[43m(\u001b[49m\u001b[43mparam\u001b[49m\u001b[43m,\u001b[49m\u001b[43m \u001b[49m\u001b[43mvar\u001b[49m\u001b[43m)\u001b[49m\n",
      "File \u001b[0;32m~/Prototype/utils.py:231\u001b[0m, in \u001b[0;36mtrain_emulator\u001b[0;34m(param, var)\u001b[0m\n\u001b[1;32m    225\u001b[0m y_pred, y_std \u001b[38;5;241m=\u001b[39m gpr_model\u001b[38;5;241m.\u001b[39mpredict(X_test, return_std\u001b[38;5;241m=\u001b[39m\u001b[38;5;28;01mTrue\u001b[39;00m)\n\u001b[1;32m    227\u001b[0m \u001b[38;5;66;03m#~~~~~~~~~~~~~~~~~~~~~~~~~~~~~~~~~~~~~~~\u001b[39;00m\n\u001b[1;32m    228\u001b[0m \u001b[38;5;66;03m# ----         Collect Metrics      ----\u001b[39;00m\n\u001b[1;32m    229\u001b[0m \u001b[38;5;66;03m#~~~~~~~~~~~~~~~~~~~~~~~~~~~~~~~~~~~~~~~\u001b[39;00m\n\u001b[1;32m    230\u001b[0m \u001b[38;5;66;03m# Calculate Mean Absolute Error\u001b[39;00m\n\u001b[0;32m--> 231\u001b[0m mae \u001b[38;5;241m=\u001b[39m \u001b[43mmean_absolute_error\u001b[49m(y_test, y_pred)\n\u001b[1;32m    233\u001b[0m \u001b[38;5;66;03m# Calculate R^2\u001b[39;00m\n\u001b[1;32m    234\u001b[0m r2_train \u001b[38;5;241m=\u001b[39m r2_score(y_test, y_pred)\n",
      "\u001b[0;31mNameError\u001b[0m: name 'mean_absolute_error' is not defined"
     ]
    }
   ],
   "source": [
    "train_emulator(param, var)"
   ]
  }
 ],
 "metadata": {
  "kernelspec": {
   "display_name": "Python [conda env:.conda-meds-py]",
   "language": "python",
   "name": "conda-env-.conda-meds-py-py"
  },
  "language_info": {
   "codemirror_mode": {
    "name": "ipython",
    "version": 3
   },
   "file_extension": ".py",
   "mimetype": "text/x-python",
   "name": "python",
   "nbconvert_exporter": "python",
   "pygments_lexer": "ipython3",
   "version": "3.11.7"
  }
 },
 "nbformat": 4,
 "nbformat_minor": 5
}
