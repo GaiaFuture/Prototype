{
 "cells": [
  {
   "cell_type": "code",
   "execution_count": null,
   "id": "4c10ec14-b4c6-49ec-9db0-5925be867758",
   "metadata": {},
   "outputs": [],
   "source": []
  }
 ],
 "metadata": {
  "kernelspec": {
   "display_name": "Python [conda env:.conda-meds-py]",
   "language": "python",
   "name": "conda-env-.conda-meds-py-py"
  },
  "language_info": {
   "codemirror_mode": {
    "name": "ipython",
    "version": 3
   },
   "file_extension": ".py",
   "mimetype": "text/x-python",
   "name": "python",
   "nbconvert_exporter": "python",
   "pygments_lexer": "ipython3",
   "version": "3.11.9"
  }
 },
 "nbformat": 4,
 "nbformat_minor": 5
}
